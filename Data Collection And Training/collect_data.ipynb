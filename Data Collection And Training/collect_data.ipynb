{
 "cells": [
  {
   "cell_type": "code",
   "execution_count": 1,
   "metadata": {},
   "outputs": [],
   "source": [
    "import cv2\n",
    "import numpy as np\n",
    "import os"
   ]
  },
  {
   "cell_type": "code",
   "execution_count": 2,
   "metadata": {},
   "outputs": [],
   "source": [
    "import mediapipe as mp\n",
    "mp_drawing = mp.solutions.drawing_utils\n",
    "mp_drawing_styles = mp.solutions.drawing_styles\n",
    "mp_holistic = mp.solutions.holistic"
   ]
  },
  {
   "cell_type": "code",
   "execution_count": 3,
   "metadata": {},
   "outputs": [],
   "source": [
    "mp_hands = mp.solutions.hands\n",
    "mp_drawing = mp.solutions.drawing_utils\n",
    "mp_drawing_styles = mp.solutions.drawing_styles\n",
    "hands = mp_hands.Hands(\n",
    "    static_image_mode= False,\n",
    "    max_num_hands=2,\n",
    "    min_detection_confidence=0.5,\n",
    "    min_tracking_confidence=0.5,\n",
    ")"
   ]
  },
  {
   "cell_type": "code",
   "execution_count": 4,
   "metadata": {},
   "outputs": [],
   "source": [
    "def draw_landmarks(image, results):\n",
    "    if results.multi_hand_landmarks:\n",
    "        for res in results.multi_hand_landmarks:\n",
    "            mp_drawing.draw_landmarks(\n",
    "                    image,\n",
    "                    res,\n",
    "                    mp_hands.HAND_CONNECTIONS,\n",
    "                    mp_drawing_styles.get_default_hand_landmarks_style(),\n",
    "                    mp_drawing_styles.get_default_hand_connections_style())"
   ]
  },
  {
   "cell_type": "code",
   "execution_count": 10,
   "metadata": {},
   "outputs": [],
   "source": [
    "data_dir = 'Data Directory'\n",
    "process_dir = 'process_data'\n",
    "action_list = [\n",
    "    'A',\n",
    "    'BA',\n",
    "    'KA',\n",
    "    'DA',\n",
    "    'E',\n",
    "    'GA',\n",
    "    'HA',\n",
    "    'I',\n",
    "    'LA',\n",
    "    'MA',\n",
    "    'NA',\n",
    "    'NGA',\n",
    "    'O',\n",
    "    'PA',\n",
    "    'RA',\n",
    "    'SA',\n",
    "    'TA',\n",
    "    'U',\n",
    "    'WA',\n",
    "    'YA',\n",
    "    'None'\n",
    "]"
   ]
  },
  {
   "cell_type": "code",
   "execution_count": 11,
   "metadata": {},
   "outputs": [
    {
     "name": "stdout",
     "output_type": "stream",
     "text": [
      "Data Dir Already Exist\n",
      "Directory Exist: Data Directory\\A \n",
      "Directory Exist: Data Directory\\A \n",
      "Directory Exist: Data Directory\\BA \n",
      "Directory Exist: Data Directory\\BA \n",
      "Directory Exist: Data Directory\\KA \n",
      "Directory Exist: Data Directory\\KA \n",
      "Directory Exist: Data Directory\\DA \n",
      "Directory Exist: Data Directory\\DA \n",
      "Directory Exist: Data Directory\\E \n",
      "Directory Exist: Data Directory\\E \n",
      "Directory Exist: Data Directory\\GA \n",
      "Directory Exist: Data Directory\\GA \n",
      "Directory Exist: Data Directory\\HA \n",
      "Directory Exist: Data Directory\\HA \n",
      "Directory Exist: Data Directory\\I \n",
      "Directory Exist: Data Directory\\I \n",
      "Directory Exist: Data Directory\\LA \n",
      "Directory Exist: Data Directory\\LA \n",
      "Directory Exist: Data Directory\\MA \n",
      "Directory Exist: Data Directory\\MA \n",
      "Directory Exist: Data Directory\\NA \n",
      "Directory Exist: Data Directory\\NA \n",
      "Directory Exist: Data Directory\\NGA \n",
      "Directory Exist: Data Directory\\NGA \n",
      "Directory Exist: Data Directory\\O \n",
      "Directory Exist: Data Directory\\O \n",
      "Directory Exist: Data Directory\\PA \n",
      "Directory Exist: Data Directory\\PA \n",
      "Directory Exist: Data Directory\\RA \n",
      "Directory Exist: Data Directory\\RA \n",
      "Directory Exist: Data Directory\\SA \n",
      "Directory Exist: Data Directory\\SA \n",
      "Directory Exist: Data Directory\\TA \n",
      "Directory Exist: Data Directory\\TA \n",
      "Directory Exist: Data Directory\\U \n",
      "Directory Exist: Data Directory\\U \n",
      "Directory Exist: Data Directory\\WA \n",
      "Directory Exist: Data Directory\\WA \n",
      "Directory Exist: Data Directory\\YA \n",
      "Directory Exist: Data Directory\\YA \n",
      "Directory Exist: Data Directory\\None \n",
      "Create Directory: Data Directory\\None \n"
     ]
    }
   ],
   "source": [
    "if os.path.exists(data_dir):\n",
    "    print(f'Data Dir Already Exist')\n",
    "else:\n",
    "    os.mkdir(data_dir)\n",
    "    print(f'Created Main Dir')\n",
    "    \n",
    "        \n",
    "for action in action_list:\n",
    "    try:\n",
    "        path = os.path.join(data_dir, action)\n",
    "        print(f'Directory Exist: {path} ')\n",
    "        if os.path.exists(path):\n",
    "            print(f'Directory Exist: {path} ')\n",
    "        else:\n",
    "            os.mkdir(path)\n",
    "            print(f'Create Directory: {path} ')\n",
    "    except Exception as e:\n",
    "        print(e)"
   ]
  },
  {
   "cell_type": "markdown",
   "metadata": {},
   "source": [
    "# Collecting Data"
   ]
  },
  {
   "cell_type": "code",
   "execution_count": null,
   "metadata": {},
   "outputs": [],
   "source": [
    "cap = cv2.VideoCapture(0)\n",
    "no_frame = 100\n",
    "\n",
    "action = \"None\"\n",
    "\n",
    "cv2.waitKey(2000)\n",
    "while cap.isOpened(): \n",
    "    for x in range (60):\n",
    "        di_r = x + 1\n",
    "        \n",
    "        if di_r == 60:\n",
    "            break\n",
    "            \n",
    "        for i in range(35):\n",
    "            cv2.waitKey(2)\n",
    "            \n",
    "            ret, frame = cap.read()\n",
    "    \n",
    "            frame = cv2.flip(frame, 1)\n",
    "        \n",
    "            image = cv2.cvtColor(frame, cv2.COLOR_BGR2RGB) # COLOR CONVERSION BGR 2 RGB\n",
    "            image.flags.writeable = False                  # Image is no longer writeable\n",
    "            results = hands.process(image)                 # Make prediction\n",
    "            image.flags.writeable = True                   # Image is now writeable \n",
    "            image = cv2.cvtColor(image, cv2.COLOR_RGB2BGR) # COLOR COVERSION RGB 2 BGR\n",
    "\n",
    "            draw_landmarks(image, results)\n",
    "            \n",
    "            \n",
    "            path = os.path.join(data_dir, action, str(di_r)+ '.'+ str(i) + '.jpg')\n",
    "            cv2.imwrite(path, frame)\n",
    "            print(f'Save: {path}')\n",
    "            \n",
    "            cv2.putText(image, 'START CAPTURING: ' + str(di_r) + action , (10,19), cv2.FONT_HERSHEY_SIMPLEX, 1, (255, 255, 255), 2, cv2.LINE_AA)\n",
    "            cv2.imshow('Feed', image) \n",
    "        \n",
    "cap.release()\n",
    "cv2.destroyAllWindows()"
   ]
  },
  {
   "cell_type": "code",
   "execution_count": 15,
   "metadata": {},
   "outputs": [],
   "source": [
    "cap.release()\n",
    "cv2.destroyAllWindows()"
   ]
  }
 ],
 "metadata": {
  "kernelspec": {
   "display_name": "Python 3",
   "language": "python",
   "name": "python3"
  },
  "language_info": {
   "codemirror_mode": {
    "name": "ipython",
    "version": 3
   },
   "file_extension": ".py",
   "mimetype": "text/x-python",
   "name": "python",
   "nbconvert_exporter": "python",
   "pygments_lexer": "ipython3",
   "version": "3.8.3"
  }
 },
 "nbformat": 4,
 "nbformat_minor": 4
}
