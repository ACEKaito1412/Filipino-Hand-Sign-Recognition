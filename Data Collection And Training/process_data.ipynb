{
 "cells": [
  {
   "cell_type": "code",
   "execution_count": 1,
   "metadata": {},
   "outputs": [],
   "source": [
    "import os\n",
    "import numpy as np\n",
    "import matplotlib as plt\n",
    "import cv2"
   ]
  },
  {
   "cell_type": "code",
   "execution_count": 2,
   "metadata": {},
   "outputs": [],
   "source": [
    "import mediapipe as mp\n",
    "mp_drawing = mp.solutions.drawing_utils\n",
    "mp_drawing_styles = mp.solutions.drawing_styles"
   ]
  },
  {
   "cell_type": "code",
   "execution_count": 3,
   "metadata": {},
   "outputs": [],
   "source": [
    "mp_hands = mp.solutions.hands\n",
    "mp_drawing = mp.solutions.drawing_utils\n",
    "mp_drawing_styles = mp.solutions.drawing_styles\n",
    "hands = mp_hands.Hands(\n",
    "    static_image_mode= False,\n",
    "    max_num_hands=2,\n",
    "    min_detection_confidence=0.5,\n",
    "    min_tracking_confidence=0.5,\n",
    ")"
   ]
  },
  {
   "cell_type": "code",
   "execution_count": 4,
   "metadata": {},
   "outputs": [],
   "source": [
    "def draw_landmarks(image, results):\n",
    "    if results.multi_hand_landmarks:\n",
    "        for res in results.multi_hand_landmarks:\n",
    "            mp_drawing.draw_landmarks(\n",
    "                    image,\n",
    "                    res,\n",
    "                    mp_hands.HAND_CONNECTIONS,\n",
    "                    mp_drawing_styles.get_default_hand_landmarks_style(),\n",
    "                    mp_drawing_styles.get_default_hand_connections_style())"
   ]
  },
  {
   "cell_type": "code",
   "execution_count": 7,
   "metadata": {},
   "outputs": [],
   "source": [
    "data_dir = 'Data Directory'\n",
    "action_list = [\n",
    "    'A',\n",
    "    'BA',\n",
    "    'KA',\n",
    "    'DA',\n",
    "    'E',\n",
    "    'GA',\n",
    "    'HA',\n",
    "    'I',\n",
    "    'LA',\n",
    "    'MA',\n",
    "    'NA',\n",
    "    'NGA',\n",
    "    'O',\n",
    "    'PA',\n",
    "    'RA',\n",
    "    'SA',\n",
    "    'TA',\n",
    "    'U',\n",
    "    'WA',\n",
    "    'YA',\n",
    "    'None'\n",
    "]"
   ]
  },
  {
   "cell_type": "code",
   "execution_count": 8,
   "metadata": {},
   "outputs": [],
   "source": [
    "label_map = {label:num for num, label in enumerate(action_list)}"
   ]
  },
  {
   "cell_type": "code",
   "execution_count": null,
   "metadata": {},
   "outputs": [],
   "source": [
    "for action in os.listdir(data_dir):\n",
    "    print(f'{action}')\n",
    "    \n",
    "    labels, sequences = [],[]\n",
    "        \n",
    "    for frame in os.listdir(os.path.join(data_dir, action)):\n",
    "        img_path =  os.path.join(data_dir, action, frame)\n",
    "            \n",
    "        if os.path.exists(img_path):             \n",
    "            cv2.waitKey(1)\n",
    "                \n",
    "            frame = cv2.imread(img_path)\n",
    "                \n",
    "            image = cv2.cvtColor(frame, cv2.COLOR_BGR2RGB) # COLOR CONVERSION BGR 2 RGB\n",
    "            image.flags.writeable = False                  # Image is no longer writeable\n",
    "            results = hands.process(image)                 # Make prediction\n",
    "            image.flags.writeable = True                   # Image is now writeable \n",
    "            image = cv2.cvtColor(image, cv2.COLOR_RGB2BGR) # COLOR COVERSION RGB 2 BGR\n",
    "                \n",
    "            draw_landmarks(image = image, results=results)\n",
    "                \n",
    "            if results.multi_handedness is not None:\n",
    "                data = []\n",
    "                for res in results.multi_hand_landmarks:\n",
    "                    data = [[rex.x, rex.y, rex.z] for rex in res.landmark]\n",
    "                    \n",
    "                print(np.array(data).shape)\n",
    "                    \n",
    "                if np.array(data).shape == (21,3):\n",
    "                    sequences.append(data)\n",
    "                    labels.append(label_map[action])\n",
    "                    print(np.array(sequences).shape)\n",
    "                else:\n",
    "                    print(f'ERROR: {img_path}')\n",
    "                        \n",
    "            draw_landmarks(image = image, results=results)\n",
    "            cv2.imshow('FEED', image)\n",
    "            \n",
    "    #try to save evertthing\n",
    "    try:\n",
    "        print(f'Saving {action} data: {np.array(sequences).shape}')\n",
    "        save_path = os.path.join(data_dir, action)\n",
    "        np.save(os.path.join(save_path, 'labels.npy'), labels)\n",
    "        np.save(os.path.join(save_path, 'sequences.npy'), sequences)\n",
    "    except Exception as e:\n",
    "        print(e)\n",
    "            \n",
    "cv2.destroyAllWindows()"
   ]
  },
  {
   "cell_type": "code",
   "execution_count": null,
   "metadata": {},
   "outputs": [],
   "source": [
    "sequences, labels = [],[]\n",
    "\n",
    "for action in os.listdir(data_dir):\n",
    "        \n",
    "    load_path = os.path.join(data_dir, action)\n",
    "    label = np.load(os.path.join(load_path, 'labels.npy'))\n",
    "    sequence = np.load(os.path.join(load_path, 'sequences.npy'))\n",
    "        \n",
    "    print(f'{load_path}')\n",
    "    print(sequence.shape)\n",
    "        \n",
    "    sequences.append(sequence)\n",
    "    labels.append(label)\n",
    "        \n",
    "cv2.destroyAllWindows()\n",
    "\n",
    "np.save(os.path.join(data_dir, 'sequences.npy'), np.concatenate(sequences))\n",
    "np.save(os.path.join(data_dir, 'labels.npy'), np.concatenate(labels))"
   ]
  }
 ],
 "metadata": {
  "kernelspec": {
   "display_name": "Python 3",
   "language": "python",
   "name": "python3"
  },
  "language_info": {
   "codemirror_mode": {
    "name": "ipython",
    "version": 3
   },
   "file_extension": ".py",
   "mimetype": "text/x-python",
   "name": "python",
   "nbconvert_exporter": "python",
   "pygments_lexer": "ipython3",
   "version": "3.8.3"
  }
 },
 "nbformat": 4,
 "nbformat_minor": 4
}
